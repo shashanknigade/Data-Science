{
  "nbformat": 4,
  "nbformat_minor": 0,
  "metadata": {
    "colab": {
      "name": "News Aggregator Spacy.ipynb",
      "provenance": [],
      "collapsed_sections": [],
      "toc_visible": true,
      "authorship_tag": "ABX9TyOGg/4RAqvfA7ObyRwn+fhO",
      "include_colab_link": true
    },
    "kernelspec": {
      "name": "python3",
      "display_name": "Python 3"
    }
  },
  "cells": [
    {
      "cell_type": "markdown",
      "metadata": {
        "id": "view-in-github",
        "colab_type": "text"
      },
      "source": [
        "<a href=\"https://colab.research.google.com/github/shashanknigade/Data-Science/blob/main/NLP/News_Aggregator_Spacy.ipynb\" target=\"_parent\"><img src=\"https://colab.research.google.com/assets/colab-badge.svg\" alt=\"Open In Colab\"/></a>"
      ]
    },
    {
      "cell_type": "markdown",
      "metadata": {
        "id": "l7iOugaQ0o0h"
      },
      "source": [
        "# News Clustering\n",
        "---\n",
        "### Problem Statement\n",
        "Develop algorithm technique to group news articles by story.\n",
        "**Dataset**:\n",
        "https://www.kaggle.com/uciml/news-aggregator-dataset\n",
        "\n",
        "---\n",
        "\n",
        "### Approach\n",
        "1.   Text Preprocessing using Spacy & NLTK Package\n",
        "1.   TF-IDF generation\n",
        "1.   Dimensionality reduction\n",
        "1.   Unsupervised clustering\n",
        "1.   Metrics calculation\n",
        "\n",
        "\n",
        "\n",
        "\n",
        "\n"
      ]
    },
    {
      "cell_type": "markdown",
      "metadata": {
        "id": "oqsXmOmsKHQQ"
      },
      "source": [
        "## Dependency Installation and data preparation"
      ]
    },
    {
      "cell_type": "code",
      "metadata": {
        "id": "HC93LjanSCmy"
      },
      "source": [
        "!pip install umap-learn\n",
        "!pip install hdbscan\n",
        "!pip install textacy"
      ],
      "execution_count": null,
      "outputs": []
    },
    {
      "cell_type": "code",
      "metadata": {
        "id": "IH97SqR2SH_s"
      },
      "source": [
        "# Import all necessary libraries\n",
        "# For file copy from Kaggle etc.\n",
        "import os, shutil\n",
        "from google.colab import drive\n",
        "import zipfile\n",
        "# For data exploration and graphs\n",
        "import pandas as pd\n",
        "import numpy as np\n",
        "import matplotlib.pyplot as plt\n",
        "# For text preprocessing\n",
        "import gensim\n",
        "from gensim.parsing.preprocessing import remove_stopwords, preprocess_string\n",
        "from gensim.parsing.preprocessing import strip_punctuation\n",
        "from gensim.models.doc2vec import Doc2Vec, TaggedDocument\n",
        "import nltk\n",
        "from nltk.tokenize import word_tokenize\n",
        "# For saving models etc\n",
        "import pickle\n",
        "# Deep Neural Network libraries\n",
        "from tensorflow.keras.layers import Dense\n",
        "from tensorflow.keras.models import Sequential\n",
        "# KMeans\n",
        "from sklearn.cluster import KMeans,MiniBatchKMeans\n",
        "from sklearn.cluster import DBSCAN\n",
        "nltk.download('punkt')\n",
        "import hdbscan\n",
        "import umap\n",
        "import spacy\n",
        "import textacy"
      ],
      "execution_count": null,
      "outputs": []
    },
    {
      "cell_type": "code",
      "metadata": {
        "colab": {
          "base_uri": "https://localhost:8080/"
        },
        "id": "v2toNb97SKSO",
        "outputId": "d2675aba-632b-404e-bd0a-1a432d0ef4b2"
      },
      "source": [
        "# Mount the drive to read kaggle config file\n",
        "drive.mount('/content/gdrive/')"
      ],
      "execution_count": 3,
      "outputs": [
        {
          "output_type": "stream",
          "text": [
            "Mounted at /content/gdrive/\n"
          ],
          "name": "stdout"
        }
      ]
    },
    {
      "cell_type": "code",
      "metadata": {
        "id": "22b7gOqVSMne"
      },
      "source": [
        "# global config values\n",
        "zipName = 'news-aggregator-dataset.zip'\n",
        "csvFileName = 'uci-news-aggregator.csv'\n",
        "modelFileSaveLocation = '/content/gdrive/MyDrive'\n",
        "run = 'newsagg-2'\n",
        "exportModels = True"
      ],
      "execution_count": 4,
      "outputs": []
    },
    {
      "cell_type": "code",
      "metadata": {
        "id": "UNZPnW48SN9o"
      },
      "source": [
        "# Create kaggle folder\n",
        "os.makedirs('data',exist_ok=True)\n",
        "os.makedirs('data/kaggle',exist_ok=True)\n",
        "# Change the current working directory to data where we will download \n",
        "# the data\n",
        "os.chdir(os.path.join(os.getcwd(),'data'))"
      ],
      "execution_count": 5,
      "outputs": []
    },
    {
      "cell_type": "code",
      "metadata": {
        "id": "8SmMDSBMSPPS"
      },
      "source": [
        "# copy kaggle.json to the content folder's kaggle folder\n",
        "shutil.copy('/content/gdrive/MyDrive/kaggle/kaggle.json',\n",
        "            'kaggle')\n",
        "# Set environment for kaggle directory to the folder in prev. step\n",
        "os.environ['KAGGLE_CONFIG_DIR'] = 'kaggle'"
      ],
      "execution_count": 6,
      "outputs": []
    },
    {
      "cell_type": "code",
      "metadata": {
        "colab": {
          "base_uri": "https://localhost:8080/"
        },
        "id": "Cs_l0MIFSQaH",
        "outputId": "575fb9e9-0328-4a23-9815-97eb59d7625e"
      },
      "source": [
        "# download the dataset\n",
        "!kaggle datasets download -d uciml/news-aggregator-dataset\n",
        "zipfileref = zipfile.ZipFile(zipName,'r')\n",
        "# Extract the files in pwd\n",
        "zipfileref.extractall()"
      ],
      "execution_count": 7,
      "outputs": [
        {
          "output_type": "stream",
          "text": [
            "Downloading news-aggregator-dataset.zip to /content/data\n",
            " 32% 9.00M/28.0M [00:00<00:00, 40.2MB/s]\n",
            "100% 28.0M/28.0M [00:00<00:00, 80.6MB/s]\n"
          ],
          "name": "stdout"
        }
      ]
    },
    {
      "cell_type": "code",
      "metadata": {
        "id": "nhDem5mIS6iF"
      },
      "source": [
        "# Read the csv file\n",
        "df = pd.read_csv(csvFileName)"
      ],
      "execution_count": 8,
      "outputs": []
    },
    {
      "cell_type": "code",
      "metadata": {
        "id": "NCFGtCgdI2Zd"
      },
      "source": [
        "# Below code was used to resolve error received while using Spacy\n",
        "# OSError: [E053] Could not read config.cfg from /usr/local/lib/python3.7/dist-packages/en_core_web_sm/en_core_web_sm-2.2.5/config.cfg\n",
        "#!pip install -U pip setuptools wheel\n",
        "#!pip install -U spacy\n",
        "#!python -m spacy download en_core_web_sm"
      ],
      "execution_count": null,
      "outputs": []
    },
    {
      "cell_type": "markdown",
      "metadata": {
        "id": "aB_Uo3JEKvLK"
      },
      "source": [
        "## Approach 1 - Explanation\n",
        "\n",
        "This approach is based on below observation \n",
        "*   Generally news headlines contain Named Entities like company name, country, person name etc and nouns. These 2 characteristics can be used to find similar news articles.\n",
        "\n",
        " "
      ]
    },
    {
      "cell_type": "code",
      "metadata": {
        "id": "-J88DkZlSRre"
      },
      "source": [
        "nlp = spacy.load('en_core_web_sm')"
      ],
      "execution_count": 13,
      "outputs": []
    },
    {
      "cell_type": "code",
      "metadata": {
        "id": "LOzVPnnsYhYi"
      },
      "source": [
        "def ProcessTest(text):\n",
        "  '''\n",
        "    text: Input Text\n",
        "    This function removes stop words from a text, removes punctuation\n",
        "    and lowers the case\n",
        "  '''\n",
        "  text = remove_stopwords(text)\n",
        "  text = strip_punctuation(text)\n",
        "  return str.lower(str.strip(text))"
      ],
      "execution_count": 14,
      "outputs": []
    },
    {
      "cell_type": "code",
      "metadata": {
        "id": "adFEIKf5XgI4"
      },
      "source": [
        "def ShowNENouns(text):\n",
        "  '''\n",
        "    text: Input Text\n",
        "    This function extracts Nouns and Entities\n",
        "  '''\n",
        "  sObj = nlp(text)\n",
        "  processed = []\n",
        "  for n in sObj.noun_chunks:\n",
        "    processed.append(n.text)\n",
        "\n",
        "  for e in sObj.ents:\n",
        "    processed.append(e.text)\n",
        "  return processed\n",
        "  "
      ],
      "execution_count": 17,
      "outputs": []
    },
    {
      "cell_type": "code",
      "metadata": {
        "colab": {
          "base_uri": "https://localhost:8080/"
        },
        "id": "TG89u6wRXudd",
        "outputId": "65a01e69-b154-421b-bee6-c165d894d6f2"
      },
      "source": [
        "#try it out\n",
        "ShowNENouns(df.iloc[1,:]['TITLE'])"
      ],
      "execution_count": 18,
      "outputs": [
        {
          "output_type": "execute_result",
          "data": {
            "text/plain": [
              "[\"Fed's Charles Plosser\",\n",
              " 'high bar',\n",
              " 'change',\n",
              " 'pace',\n",
              " 'Fed',\n",
              " 'Charles Plosser']"
            ]
          },
          "metadata": {
            "tags": []
          },
          "execution_count": 18
        }
      ]
    },
    {
      "cell_type": "markdown",
      "metadata": {
        "id": "9U0nyRghKfHM"
      },
      "source": [
        "### Trial run on 1000 news"
      ]
    },
    {
      "cell_type": "code",
      "metadata": {
        "id": "x9fQ_9XRZuxq"
      },
      "source": [
        "# Lets test on first 1000 entries\n",
        "df_1000 = df.iloc[:1000,:].copy()"
      ],
      "execution_count": 19,
      "outputs": []
    },
    {
      "cell_type": "markdown",
      "metadata": {
        "id": "7C3qJnRVJyCP"
      },
      "source": [
        "The clustering will be done based on the headline of the news which is stored in TITLE column of the dataframe"
      ]
    },
    {
      "cell_type": "code",
      "metadata": {
        "id": "M5wAZaOQZ4tf"
      },
      "source": [
        "# Store the Named Entities and Nouns for each news in this list\n",
        "inputText = []\n",
        "for txt in df_1000['TITLE']:\n",
        "  inputText.append(ShowNENouns(txt))"
      ],
      "execution_count": 20,
      "outputs": []
    },
    {
      "cell_type": "code",
      "metadata": {
        "colab": {
          "base_uri": "https://localhost:8080/"
        },
        "id": "rOSYc2R0aP4m",
        "outputId": "0c7b05bd-04c6-4ad9-aa90-39e74281fedd"
      },
      "source": [
        "# Read one entry to check for extracted Entities and Nouns\n",
        "inputText[0]"
      ],
      "execution_count": 23,
      "outputs": [
        {
          "output_type": "execute_result",
          "data": {
            "text/plain": [
              "['Fed official', 'weak data', 'weather', 'taper', 'Fed']"
            ]
          },
          "metadata": {
            "tags": []
          },
          "execution_count": 23
        }
      ]
    },
    {
      "cell_type": "code",
      "metadata": {
        "id": "wKNLz2vOacU3"
      },
      "source": [
        "# Use TF-IDF to extract features\n",
        "from sklearn.feature_extraction.text import TfidfVectorizer\n",
        "vectorizer = TfidfVectorizer(stop_words='english')\n",
        "X_tf_1000 = vectorizer.fit_transform([' '.join(a,) for a in inputText])"
      ],
      "execution_count": 36,
      "outputs": []
    },
    {
      "cell_type": "code",
      "metadata": {
        "colab": {
          "base_uri": "https://localhost:8080/"
        },
        "id": "Ng5EeoUqbU7u",
        "outputId": "044f5a88-45ea-466f-b8b8-523154461711"
      },
      "source": [
        "X_tf_1000.shape"
      ],
      "execution_count": 37,
      "outputs": [
        {
          "output_type": "execute_result",
          "data": {
            "text/plain": [
              "(1000, 1320)"
            ]
          },
          "metadata": {
            "tags": []
          },
          "execution_count": 37
        }
      ]
    },
    {
      "cell_type": "code",
      "metadata": {
        "id": "Z4S1mSqeN9pw"
      },
      "source": [
        "# Lets convert story column in dataframe to lables using Ordinal Encoding \n",
        "from sklearn.preprocessing import OrdinalEncoder\n",
        "ord_enc = OrdinalEncoder()\n",
        "df_1000[\"STORY_CODE\"] = ord_enc.fit_transform(df_1000[[\"STORY\"]])"
      ],
      "execution_count": 28,
      "outputs": []
    },
    {
      "cell_type": "code",
      "metadata": {
        "colab": {
          "base_uri": "https://localhost:8080/",
          "height": 419
        },
        "id": "T6fmiT3YONtQ",
        "outputId": "33f61c02-a9bc-4ff7-a074-e441fdb00ed7"
      },
      "source": [
        "df_1000[['STORY','STORY_CODE']]"
      ],
      "execution_count": 38,
      "outputs": [
        {
          "output_type": "execute_result",
          "data": {
            "text/html": [
              "<div>\n",
              "<style scoped>\n",
              "    .dataframe tbody tr th:only-of-type {\n",
              "        vertical-align: middle;\n",
              "    }\n",
              "\n",
              "    .dataframe tbody tr th {\n",
              "        vertical-align: top;\n",
              "    }\n",
              "\n",
              "    .dataframe thead th {\n",
              "        text-align: right;\n",
              "    }\n",
              "</style>\n",
              "<table border=\"1\" class=\"dataframe\">\n",
              "  <thead>\n",
              "    <tr style=\"text-align: right;\">\n",
              "      <th></th>\n",
              "      <th>STORY</th>\n",
              "      <th>STORY_CODE</th>\n",
              "    </tr>\n",
              "  </thead>\n",
              "  <tbody>\n",
              "    <tr>\n",
              "      <th>0</th>\n",
              "      <td>ddUyU0VZz0BRneMioxUPQVP6sIxvM</td>\n",
              "      <td>11.0</td>\n",
              "    </tr>\n",
              "    <tr>\n",
              "      <th>1</th>\n",
              "      <td>ddUyU0VZz0BRneMioxUPQVP6sIxvM</td>\n",
              "      <td>11.0</td>\n",
              "    </tr>\n",
              "    <tr>\n",
              "      <th>2</th>\n",
              "      <td>ddUyU0VZz0BRneMioxUPQVP6sIxvM</td>\n",
              "      <td>11.0</td>\n",
              "    </tr>\n",
              "    <tr>\n",
              "      <th>3</th>\n",
              "      <td>ddUyU0VZz0BRneMioxUPQVP6sIxvM</td>\n",
              "      <td>11.0</td>\n",
              "    </tr>\n",
              "    <tr>\n",
              "      <th>4</th>\n",
              "      <td>ddUyU0VZz0BRneMioxUPQVP6sIxvM</td>\n",
              "      <td>11.0</td>\n",
              "    </tr>\n",
              "    <tr>\n",
              "      <th>...</th>\n",
              "      <td>...</td>\n",
              "      <td>...</td>\n",
              "    </tr>\n",
              "    <tr>\n",
              "      <th>995</th>\n",
              "      <td>dw0Jnfj8vEPaLZM8TQMSCbVaYeyrM</td>\n",
              "      <td>15.0</td>\n",
              "    </tr>\n",
              "    <tr>\n",
              "      <th>996</th>\n",
              "      <td>dw0Jnfj8vEPaLZM8TQMSCbVaYeyrM</td>\n",
              "      <td>15.0</td>\n",
              "    </tr>\n",
              "    <tr>\n",
              "      <th>997</th>\n",
              "      <td>dw0Jnfj8vEPaLZM8TQMSCbVaYeyrM</td>\n",
              "      <td>15.0</td>\n",
              "    </tr>\n",
              "    <tr>\n",
              "      <th>998</th>\n",
              "      <td>dw0Jnfj8vEPaLZM8TQMSCbVaYeyrM</td>\n",
              "      <td>15.0</td>\n",
              "    </tr>\n",
              "    <tr>\n",
              "      <th>999</th>\n",
              "      <td>dw0Jnfj8vEPaLZM8TQMSCbVaYeyrM</td>\n",
              "      <td>15.0</td>\n",
              "    </tr>\n",
              "  </tbody>\n",
              "</table>\n",
              "<p>1000 rows × 2 columns</p>\n",
              "</div>"
            ],
            "text/plain": [
              "                             STORY  STORY_CODE\n",
              "0    ddUyU0VZz0BRneMioxUPQVP6sIxvM        11.0\n",
              "1    ddUyU0VZz0BRneMioxUPQVP6sIxvM        11.0\n",
              "2    ddUyU0VZz0BRneMioxUPQVP6sIxvM        11.0\n",
              "3    ddUyU0VZz0BRneMioxUPQVP6sIxvM        11.0\n",
              "4    ddUyU0VZz0BRneMioxUPQVP6sIxvM        11.0\n",
              "..                             ...         ...\n",
              "995  dw0Jnfj8vEPaLZM8TQMSCbVaYeyrM        15.0\n",
              "996  dw0Jnfj8vEPaLZM8TQMSCbVaYeyrM        15.0\n",
              "997  dw0Jnfj8vEPaLZM8TQMSCbVaYeyrM        15.0\n",
              "998  dw0Jnfj8vEPaLZM8TQMSCbVaYeyrM        15.0\n",
              "999  dw0Jnfj8vEPaLZM8TQMSCbVaYeyrM        15.0\n",
              "\n",
              "[1000 rows x 2 columns]"
            ]
          },
          "metadata": {
            "tags": []
          },
          "execution_count": 38
        }
      ]
    },
    {
      "cell_type": "code",
      "metadata": {
        "colab": {
          "base_uri": "https://localhost:8080/"
        },
        "id": "8mkFts0ZQZqG",
        "outputId": "37ea950b-23b6-45fb-82ae-af4e52e91b6c"
      },
      "source": [
        "df_1000['STORY_CODE'].value_counts()"
      ],
      "execution_count": 41,
      "outputs": [
        {
          "output_type": "execute_result",
          "data": {
            "text/plain": [
              "2.0     129\n",
              "12.0    127\n",
              "0.0     123\n",
              "17.0    112\n",
              "10.0     61\n",
              "7.0      60\n",
              "15.0     56\n",
              "9.0      54\n",
              "6.0      53\n",
              "8.0      37\n",
              "13.0     33\n",
              "1.0      32\n",
              "16.0     31\n",
              "5.0      28\n",
              "4.0      25\n",
              "14.0     21\n",
              "3.0       9\n",
              "11.0      9\n",
              "Name: STORY_CODE, dtype: int64"
            ]
          },
          "metadata": {
            "tags": []
          },
          "execution_count": 41
        }
      ]
    },
    {
      "cell_type": "code",
      "metadata": {
        "colab": {
          "base_uri": "https://localhost:8080/",
          "height": 351
        },
        "id": "cZp_bdQOMLEg",
        "outputId": "e607570b-10a9-437b-afbe-dbef5b933dc8"
      },
      "source": [
        "# Lets use UMAP to plot the vector for visualization purpose\n",
        "reducer = umap.UMAP()\n",
        "# Reducer will reduce the dimentionality to 2 so that it can be plotted\n",
        "# *** It is important to note that data loss can happen during the dimentionality reduction\n",
        "# and this visualazation may not be useful as we scale our solution\n",
        "embedding_original = reducer.fit_transform(X_tf_1000)\n",
        "# Plot all rows and column 0 as x and all rows and column 1 as y from embedding\n",
        "plt.scatter(embedding_original[:,0],embedding_original[:,1],c=df_1000.iloc[:,:]['STORY_CODE'],cmap='tab10')\n",
        "\n",
        "''' As you can see in the output, the dimentionality reduction does not capture the \n",
        "    proper clusters even in the labled data. NOTE - We are doing this step just for \n",
        "    doing a check, in real world we would not have a lables for news items already available\n",
        "    with us.\n",
        "\n",
        "    Still there are few well defined clusters\n",
        "'''"
      ],
      "execution_count": 52,
      "outputs": [
        {
          "output_type": "execute_result",
          "data": {
            "application/vnd.google.colaboratory.intrinsic+json": {
              "type": "string"
            },
            "text/plain": [
              "' As you can see in the output, the dimentionality reduction does not capture the \\n    proper clusters even in the labled data. NOTE - We are doing this step just for \\n    doing a check, in real world we would not have a lables for news items already available\\n    with us.\\n\\n    Still there are few well defined clusters\\n'"
            ]
          },
          "metadata": {
            "tags": []
          },
          "execution_count": 52
        },
        {
          "output_type": "display_data",
          "data": {
            "image/png": "[encoded data removed]",
            "text/plain": [
              "<Figure size 432x288 with 1 Axes>"
            ]
          },
          "metadata": {
            "tags": [],
            "needs_background": "light"
          }
        }
      ]
    },
    {
      "cell_type": "markdown",
      "metadata": {
        "id": "eJl8eFEiPy2X"
      },
      "source": [
        "#### KMeans Clustering\n",
        "Lets start with a random number of clusters and then we will find the optimum clusters. We will explore cluster number finding later in this notebook"
      ]
    },
    {
      "cell_type": "code",
      "metadata": {
        "colab": {
          "base_uri": "https://localhost:8080/"
        },
        "id": "VphcDQh_bYuP",
        "outputId": "17f8782b-5ba9-44e9-faf7-e3e27fc8d8cc"
      },
      "source": [
        "Kmean = KMeans(n_clusters=15)\n",
        "Kmean.fit(X_tf_1000)"
      ],
      "execution_count": 43,
      "outputs": [
        {
          "output_type": "execute_result",
          "data": {
            "text/plain": [
              "KMeans(algorithm='auto', copy_x=True, init='k-means++', max_iter=300,\n",
              "       n_clusters=15, n_init=10, n_jobs=None, precompute_distances='auto',\n",
              "       random_state=None, tol=0.0001, verbose=0)"
            ]
          },
          "metadata": {
            "tags": []
          },
          "execution_count": 43
        }
      ]
    },
    {
      "cell_type": "code",
      "metadata": {
        "id": "X0hVSVIUbeS6"
      },
      "source": [
        "df_1000['Predicted_kmans'] = Kmean.labels_"
      ],
      "execution_count": 44,
      "outputs": []
    },
    {
      "cell_type": "markdown",
      "metadata": {
        "id": "O2nVECO8SlHV"
      },
      "source": [
        "1.   Lets compare the available story lables with the predicted kmeans class lables.\n",
        "2.   These will not exactly match for value as KMeans will come up with its owne labels. E.g. the data may have a story label as 10 but KMeans may have a label 9 assigned to denote this predicted class.\n",
        "3. Hence we will just see if actual labes have only one type of predicted lable or not\n",
        "4. To check this we will see entries which has predicted label as 2"
      ]
    },
    {
      "cell_type": "code",
      "metadata": {
        "colab": {
          "base_uri": "https://localhost:8080/",
          "height": 948
        },
        "id": "Tyz0Es4Wb5e1",
        "outputId": "c8c4ba7e-10e1-4c01-da29-6ad4c5584008"
      },
      "source": [
        "df_1000[df_1000['Predicted_kmans'] == 2][['TITLE','STORY_CODE']]"
      ],
      "execution_count": 47,
      "outputs": [
        {
          "output_type": "execute_result",
          "data": {
            "text/html": [
              "<div>\n",
              "<style scoped>\n",
              "    .dataframe tbody tr th:only-of-type {\n",
              "        vertical-align: middle;\n",
              "    }\n",
              "\n",
              "    .dataframe tbody tr th {\n",
              "        vertical-align: top;\n",
              "    }\n",
              "\n",
              "    .dataframe thead th {\n",
              "        text-align: right;\n",
              "    }\n",
              "</style>\n",
              "<table border=\"1\" class=\"dataframe\">\n",
              "  <thead>\n",
              "    <tr style=\"text-align: right;\">\n",
              "      <th></th>\n",
              "      <th>TITLE</th>\n",
              "      <th>STORY_CODE</th>\n",
              "    </tr>\n",
              "  </thead>\n",
              "  <tbody>\n",
              "    <tr>\n",
              "      <th>47</th>\n",
              "      <td>EBay, Icahn talk smack</td>\n",
              "      <td>16.0</td>\n",
              "    </tr>\n",
              "    <tr>\n",
              "      <th>50</th>\n",
              "      <td>Carl Icahn Rift Hurts eBay (EBAY)</td>\n",
              "      <td>16.0</td>\n",
              "    </tr>\n",
              "    <tr>\n",
              "      <th>51</th>\n",
              "      <td>EBay rejects Icahn slate of directors</td>\n",
              "      <td>16.0</td>\n",
              "    </tr>\n",
              "    <tr>\n",
              "      <th>52</th>\n",
              "      <td>CARL ICAHN: eBay Shareholders Lost $4 Billion ...</td>\n",
              "      <td>16.0</td>\n",
              "    </tr>\n",
              "    <tr>\n",
              "      <th>53</th>\n",
              "      <td>Ebay to Shareholders: Vote Against Icahn Nominees</td>\n",
              "      <td>16.0</td>\n",
              "    </tr>\n",
              "    <tr>\n",
              "      <th>54</th>\n",
              "      <td>EBay rejects Icahn board nominees, asks invest...</td>\n",
              "      <td>16.0</td>\n",
              "    </tr>\n",
              "    <tr>\n",
              "      <th>55</th>\n",
              "      <td>Icahn Targets Ebay Chief Donahoe After Company...</td>\n",
              "      <td>16.0</td>\n",
              "    </tr>\n",
              "    <tr>\n",
              "      <th>56</th>\n",
              "      <td>TECH STOCKS: EBay And Icahn Keep Trading Punches</td>\n",
              "      <td>16.0</td>\n",
              "    </tr>\n",
              "    <tr>\n",
              "      <th>57</th>\n",
              "      <td>EBay asks shareholders to vote against Carl Ic...</td>\n",
              "      <td>16.0</td>\n",
              "    </tr>\n",
              "    <tr>\n",
              "      <th>58</th>\n",
              "      <td>EBay asks shareholders to vote against Icahn b...</td>\n",
              "      <td>16.0</td>\n",
              "    </tr>\n",
              "    <tr>\n",
              "      <th>59</th>\n",
              "      <td>EBay and Icahn keep trading punches</td>\n",
              "      <td>16.0</td>\n",
              "    </tr>\n",
              "    <tr>\n",
              "      <th>60</th>\n",
              "      <td>EBay Rejects Icahn Board Picks As Activist Str...</td>\n",
              "      <td>16.0</td>\n",
              "    </tr>\n",
              "    <tr>\n",
              "      <th>61</th>\n",
              "      <td>EBay Asks Shareholders To Vote Against PayPal ...</td>\n",
              "      <td>16.0</td>\n",
              "    </tr>\n",
              "    <tr>\n",
              "      <th>62</th>\n",
              "      <td>EBay rejects Carl Icahn's director nominees, u...</td>\n",
              "      <td>16.0</td>\n",
              "    </tr>\n",
              "    <tr>\n",
              "      <th>64</th>\n",
              "      <td>eBay Rejects Carl Icahn's Board Nominees And S...</td>\n",
              "      <td>16.0</td>\n",
              "    </tr>\n",
              "    <tr>\n",
              "      <th>65</th>\n",
              "      <td>EBay rejects Carl Icahn board nominees, asks i...</td>\n",
              "      <td>16.0</td>\n",
              "    </tr>\n",
              "    <tr>\n",
              "      <th>66</th>\n",
              "      <td>eBay's John Donahoe talks Icahn, conflicts, an...</td>\n",
              "      <td>16.0</td>\n",
              "    </tr>\n",
              "    <tr>\n",
              "      <th>67</th>\n",
              "      <td>EBay urgest shareholders to reject Icahn's boa...</td>\n",
              "      <td>16.0</td>\n",
              "    </tr>\n",
              "    <tr>\n",
              "      <th>68</th>\n",
              "      <td>Carl Icahn slams eBay CEO</td>\n",
              "      <td>16.0</td>\n",
              "    </tr>\n",
              "    <tr>\n",
              "      <th>69</th>\n",
              "      <td>Icahn Claims Inexcusable Incompetence of eBay ...</td>\n",
              "      <td>16.0</td>\n",
              "    </tr>\n",
              "    <tr>\n",
              "      <th>70</th>\n",
              "      <td>EBay rejects Carl Icahn's director nominees, u...</td>\n",
              "      <td>16.0</td>\n",
              "    </tr>\n",
              "    <tr>\n",
              "      <th>71</th>\n",
              "      <td>UPDATE 1-EBay rejects Icahn board nominees, as...</td>\n",
              "      <td>16.0</td>\n",
              "    </tr>\n",
              "    <tr>\n",
              "      <th>72</th>\n",
              "      <td>EBay rejects Icahn board nominees, urges inves...</td>\n",
              "      <td>16.0</td>\n",
              "    </tr>\n",
              "    <tr>\n",
              "      <th>73</th>\n",
              "      <td>Carl Icahn: Donahoe Cost eBay Investors More T...</td>\n",
              "      <td>16.0</td>\n",
              "    </tr>\n",
              "    <tr>\n",
              "      <th>74</th>\n",
              "      <td>EBay urges shareholders to vote against Icahn ...</td>\n",
              "      <td>16.0</td>\n",
              "    </tr>\n",
              "    <tr>\n",
              "      <th>75</th>\n",
              "      <td>eBay asks stockholders to oppose Icahn nominees</td>\n",
              "      <td>16.0</td>\n",
              "    </tr>\n",
              "    <tr>\n",
              "      <th>76</th>\n",
              "      <td>EBay says Carl Icahn's board picks 'not qualif...</td>\n",
              "      <td>16.0</td>\n",
              "    </tr>\n",
              "    <tr>\n",
              "      <th>490</th>\n",
              "      <td>EBay rejects Icahn slate of directors</td>\n",
              "      <td>6.0</td>\n",
              "    </tr>\n",
              "    <tr>\n",
              "      <th>692</th>\n",
              "      <td>Market Wrap: Chiquita Now Biggest Banana Brand...</td>\n",
              "      <td>0.0</td>\n",
              "    </tr>\n",
              "  </tbody>\n",
              "</table>\n",
              "</div>"
            ],
            "text/plain": [
              "                                                 TITLE  STORY_CODE\n",
              "47                              EBay, Icahn talk smack        16.0\n",
              "50                   Carl Icahn Rift Hurts eBay (EBAY)        16.0\n",
              "51               EBay rejects Icahn slate of directors        16.0\n",
              "52   CARL ICAHN: eBay Shareholders Lost $4 Billion ...        16.0\n",
              "53   Ebay to Shareholders: Vote Against Icahn Nominees        16.0\n",
              "54   EBay rejects Icahn board nominees, asks invest...        16.0\n",
              "55   Icahn Targets Ebay Chief Donahoe After Company...        16.0\n",
              "56    TECH STOCKS: EBay And Icahn Keep Trading Punches        16.0\n",
              "57   EBay asks shareholders to vote against Carl Ic...        16.0\n",
              "58   EBay asks shareholders to vote against Icahn b...        16.0\n",
              "59                 EBay and Icahn keep trading punches        16.0\n",
              "60   EBay Rejects Icahn Board Picks As Activist Str...        16.0\n",
              "61   EBay Asks Shareholders To Vote Against PayPal ...        16.0\n",
              "62   EBay rejects Carl Icahn's director nominees, u...        16.0\n",
              "64   eBay Rejects Carl Icahn's Board Nominees And S...        16.0\n",
              "65   EBay rejects Carl Icahn board nominees, asks i...        16.0\n",
              "66   eBay's John Donahoe talks Icahn, conflicts, an...        16.0\n",
              "67   EBay urgest shareholders to reject Icahn's boa...        16.0\n",
              "68                           Carl Icahn slams eBay CEO        16.0\n",
              "69   Icahn Claims Inexcusable Incompetence of eBay ...        16.0\n",
              "70   EBay rejects Carl Icahn's director nominees, u...        16.0\n",
              "71   UPDATE 1-EBay rejects Icahn board nominees, as...        16.0\n",
              "72   EBay rejects Icahn board nominees, urges inves...        16.0\n",
              "73   Carl Icahn: Donahoe Cost eBay Investors More T...        16.0\n",
              "74   EBay urges shareholders to vote against Icahn ...        16.0\n",
              "75     eBay asks stockholders to oppose Icahn nominees        16.0\n",
              "76   EBay says Carl Icahn's board picks 'not qualif...        16.0\n",
              "490              EBay rejects Icahn slate of directors         6.0\n",
              "692  Market Wrap: Chiquita Now Biggest Banana Brand...         0.0"
            ]
          },
          "metadata": {
            "tags": []
          },
          "execution_count": 47
        }
      ]
    },
    {
      "cell_type": "markdown",
      "metadata": {
        "id": "Al-myxn7THDw"
      },
      "source": [
        "At least the predicted lable with value 2 looks promising as there are only 2 news which had different original lables. And those has some similar keywords like eBay. Hence I would say not very bad"
      ]
    },
    {
      "cell_type": "code",
      "metadata": {
        "colab": {
          "base_uri": "https://localhost:8080/"
        },
        "id": "-msozGMScWoP",
        "outputId": "fdda1c64-04b1-4674-aa3e-ab1dcc40130a"
      },
      "source": [
        "embedding_predicted = reducer.fit_transform(X_tf_1000)\n",
        "embedding_predicted.shape"
      ],
      "execution_count": 53,
      "outputs": [
        {
          "output_type": "execute_result",
          "data": {
            "text/plain": [
              "(1000, 2)"
            ]
          },
          "metadata": {
            "tags": []
          },
          "execution_count": 53
        }
      ]
    },
    {
      "cell_type": "code",
      "metadata": {
        "colab": {
          "base_uri": "https://localhost:8080/",
          "height": 286
        },
        "id": "Gm5pgbVYcbIo",
        "outputId": "04303ac0-cc05-42f6-b1dc-2d086fc1aa63"
      },
      "source": [
        "fig,ax = plt.subplots(nrows=1,ncols=2)\n",
        "ax[0].scatter(embedding_original[:,0],embedding_original[:,1],c=df_1000.iloc[:,:]['STORY_CODE'],cmap='tab10')\n",
        "ax[1].scatter(embedding_predicted[:,0],embedding_predicted[:,1],c=df_1000['Predicted_kmans'],cmap='tab10')"
      ],
      "execution_count": 54,
      "outputs": [
        {
          "output_type": "execute_result",
          "data": {
            "text/plain": [
              "<matplotlib.collections.PathCollection at 0x7fbb7fcb9d90>"
            ]
          },
          "metadata": {
            "tags": []
          },
          "execution_count": 54
        },
        {
          "output_type": "display_data",
          "data": {
            "image/png": "[encoded data removed]",
            "text/plain": [
              "<Figure size 432x288 with 2 Axes>"
            ]
          },
          "metadata": {
            "tags": [],
            "needs_background": "light"
          }
        }
      ]
    },
    {
      "cell_type": "code",
      "metadata": {
        "colab": {
          "base_uri": "https://localhost:8080/",
          "height": 514
        },
        "id": "B0Xm0YxTTo81",
        "outputId": "afc1abfb-35c5-4357-ecce-9101a7bd0af8"
      },
      "source": [
        "# Lets now group the news entries based on predicted lables and see\n",
        "# how may of them have different original labels\n",
        "groups = df_1000.groupby('Predicted_kmans')\n",
        "df_1000_eval = pd.DataFrame(columns=['Predict_Class','Accuracy','Total_Classes'])\n",
        "ind = 0\n",
        "for name,group in groups:\n",
        "  total = len(group)\n",
        "  data = group['STORY_CODE'].value_counts()\n",
        "  max = data.iloc[0]\n",
        "  df_1000_eval.loc[ind] = [name,max/total,len(data)]\n",
        "  ind += 1\n",
        "\n",
        "df_1000_eval"
      ],
      "execution_count": 65,
      "outputs": [
        {
          "output_type": "execute_result",
          "data": {
            "text/html": [
              "<div>\n",
              "<style scoped>\n",
              "    .dataframe tbody tr th:only-of-type {\n",
              "        vertical-align: middle;\n",
              "    }\n",
              "\n",
              "    .dataframe tbody tr th {\n",
              "        vertical-align: top;\n",
              "    }\n",
              "\n",
              "    .dataframe thead th {\n",
              "        text-align: right;\n",
              "    }\n",
              "</style>\n",
              "<table border=\"1\" class=\"dataframe\">\n",
              "  <thead>\n",
              "    <tr style=\"text-align: right;\">\n",
              "      <th></th>\n",
              "      <th>Predict_Class</th>\n",
              "      <th>Accuracy</th>\n",
              "      <th>Total_Classes</th>\n",
              "    </tr>\n",
              "  </thead>\n",
              "  <tbody>\n",
              "    <tr>\n",
              "      <th>0</th>\n",
              "      <td>0.0</td>\n",
              "      <td>0.982143</td>\n",
              "      <td>2.0</td>\n",
              "    </tr>\n",
              "    <tr>\n",
              "      <th>1</th>\n",
              "      <td>1.0</td>\n",
              "      <td>0.545455</td>\n",
              "      <td>4.0</td>\n",
              "    </tr>\n",
              "    <tr>\n",
              "      <th>2</th>\n",
              "      <td>2.0</td>\n",
              "      <td>0.931034</td>\n",
              "      <td>3.0</td>\n",
              "    </tr>\n",
              "    <tr>\n",
              "      <th>3</th>\n",
              "      <td>3.0</td>\n",
              "      <td>0.961538</td>\n",
              "      <td>2.0</td>\n",
              "    </tr>\n",
              "    <tr>\n",
              "      <th>4</th>\n",
              "      <td>4.0</td>\n",
              "      <td>1.000000</td>\n",
              "      <td>1.0</td>\n",
              "    </tr>\n",
              "    <tr>\n",
              "      <th>5</th>\n",
              "      <td>5.0</td>\n",
              "      <td>1.000000</td>\n",
              "      <td>1.0</td>\n",
              "    </tr>\n",
              "    <tr>\n",
              "      <th>6</th>\n",
              "      <td>6.0</td>\n",
              "      <td>0.866667</td>\n",
              "      <td>2.0</td>\n",
              "    </tr>\n",
              "    <tr>\n",
              "      <th>7</th>\n",
              "      <td>7.0</td>\n",
              "      <td>1.000000</td>\n",
              "      <td>1.0</td>\n",
              "    </tr>\n",
              "    <tr>\n",
              "      <th>8</th>\n",
              "      <td>8.0</td>\n",
              "      <td>0.676471</td>\n",
              "      <td>5.0</td>\n",
              "    </tr>\n",
              "    <tr>\n",
              "      <th>9</th>\n",
              "      <td>9.0</td>\n",
              "      <td>0.934066</td>\n",
              "      <td>4.0</td>\n",
              "    </tr>\n",
              "    <tr>\n",
              "      <th>10</th>\n",
              "      <td>10.0</td>\n",
              "      <td>1.000000</td>\n",
              "      <td>1.0</td>\n",
              "    </tr>\n",
              "    <tr>\n",
              "      <th>11</th>\n",
              "      <td>11.0</td>\n",
              "      <td>1.000000</td>\n",
              "      <td>1.0</td>\n",
              "    </tr>\n",
              "    <tr>\n",
              "      <th>12</th>\n",
              "      <td>12.0</td>\n",
              "      <td>0.293801</td>\n",
              "      <td>17.0</td>\n",
              "    </tr>\n",
              "    <tr>\n",
              "      <th>13</th>\n",
              "      <td>13.0</td>\n",
              "      <td>1.000000</td>\n",
              "      <td>1.0</td>\n",
              "    </tr>\n",
              "    <tr>\n",
              "      <th>14</th>\n",
              "      <td>14.0</td>\n",
              "      <td>1.000000</td>\n",
              "      <td>1.0</td>\n",
              "    </tr>\n",
              "  </tbody>\n",
              "</table>\n",
              "</div>"
            ],
            "text/plain": [
              "    Predict_Class  Accuracy  Total_Classes\n",
              "0             0.0  0.982143            2.0\n",
              "1             1.0  0.545455            4.0\n",
              "2             2.0  0.931034            3.0\n",
              "3             3.0  0.961538            2.0\n",
              "4             4.0  1.000000            1.0\n",
              "5             5.0  1.000000            1.0\n",
              "6             6.0  0.866667            2.0\n",
              "7             7.0  1.000000            1.0\n",
              "8             8.0  0.676471            5.0\n",
              "9             9.0  0.934066            4.0\n",
              "10           10.0  1.000000            1.0\n",
              "11           11.0  1.000000            1.0\n",
              "12           12.0  0.293801           17.0\n",
              "13           13.0  1.000000            1.0\n",
              "14           14.0  1.000000            1.0"
            ]
          },
          "metadata": {
            "tags": []
          },
          "execution_count": 65
        }
      ]
    },
    {
      "cell_type": "code",
      "metadata": {
        "colab": {
          "base_uri": "https://localhost:8080/"
        },
        "id": "LZpE-Nuhb2Jt",
        "outputId": "54c3ff9d-978e-4d20-9045-cf67c5f67855"
      },
      "source": [
        "df_1000_eval['Accuracy'].mean()"
      ],
      "execution_count": 67,
      "outputs": [
        {
          "output_type": "execute_result",
          "data": {
            "text/plain": [
              "0.8794116049963958"
            ]
          },
          "metadata": {
            "tags": []
          },
          "execution_count": 67
        }
      ]
    },
    {
      "cell_type": "code",
      "metadata": {
        "id": "XQURvFJ5b69P"
      },
      "source": [
        ""
      ],
      "execution_count": null,
      "outputs": []
    }
  ]
}